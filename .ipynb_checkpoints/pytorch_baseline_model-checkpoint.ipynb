{
 "cells": [
  {
   "cell_type": "code",
   "execution_count": 1,
   "id": "2ca8825a",
   "metadata": {},
   "outputs": [],
   "source": [
    "# base_dir = '/content/drive/MyDrive/CS760-project'\n",
    "base_dir = '.'\n",
    "\n",
    "import warnings\n",
    "warnings.simplefilter('ignore')"
   ]
  },
  {
   "cell_type": "markdown",
   "id": "c033ec7b",
   "metadata": {},
   "source": [
    "# Imports"
   ]
  },
  {
   "cell_type": "code",
   "execution_count": 2,
   "id": "59fa1b52",
   "metadata": {},
   "outputs": [],
   "source": [
    "%matplotlib inline\n",
    "import numpy as np\n",
    "import matplotlib\n",
    "import matplotlib.pyplot as plt\n",
    "from IPython.display import display\n",
    "from sklearn.model_selection import train_test_split\n",
    "\n",
    "matplotlib.rcParams['figure.facecolor'] = '#ffffff'"
   ]
  },
  {
   "cell_type": "code",
   "execution_count": 3,
   "id": "bad6b69c",
   "metadata": {},
   "outputs": [],
   "source": [
    "# torch\n",
    "\n",
    "import torch\n",
    "import torch.nn as nn\n",
    "import torch.optim as optim\n",
    "from torchinfo import summary\n",
    "from torchviz import make_dot\n",
    "import torchvision.datasets as datasets\n",
    "import torchvision.transforms as transforms\n",
    "# from torch.utils.data import DataLoader\n",
    "\n",
    "import os\n",
    "import torchvision\n",
    "from torchvision.datasets.utils import download_url\n",
    "from torchvision.datasets import ImageFolder\n",
    "# from torchvision.transforms import ToTensor\n",
    "import torchvision.transforms as T\n",
    "from torch.utils.data import random_split\n",
    "import torch.utils.data as data\n",
    "from torch.utils.data.dataloader import DataLoader\n",
    "\n",
    "import matplotlib.pyplot as plt\n",
    "from PIL import Image\n",
    "\n",
    "\n",
    "import torch.nn as nn\n",
    "import torch.nn.functional as F\n",
    "\n",
    "import gensim\n",
    "import gensim.downloader"
   ]
  },
  {
   "cell_type": "code",
   "execution_count": 4,
   "id": "747334a6",
   "metadata": {},
   "outputs": [],
   "source": [
    "# default font\n",
    "plt.rcParams['font.size'] = 14\n",
    "\n",
    "# default graph size\n",
    "plt.rcParams['figure.figsize'] = (4,4)\n",
    "\n",
    "# default graph grid\n",
    "# plt.rcParams['axes.grid'] = True\n",
    "\n",
    "# numpy precision\n",
    "np.set_printoptions(suppress=True, precision=5)"
   ]
  },
  {
   "cell_type": "markdown",
   "id": "ce26039e",
   "metadata": {},
   "source": [
    "# GPU Support"
   ]
  },
  {
   "cell_type": "code",
   "execution_count": 5,
   "id": "cd82df7d",
   "metadata": {},
   "outputs": [
    {
     "name": "stdout",
     "output_type": "stream",
     "text": [
      "cuda:0\n"
     ]
    }
   ],
   "source": [
    "# device\n",
    "\n",
    "device = torch.device(\"cuda:0\" if torch.cuda.is_available() else \"cpu\")\n",
    "print(device)"
   ]
  },
  {
   "cell_type": "markdown",
   "id": "ba129a59",
   "metadata": {},
   "source": [
    "# Data Preparation"
   ]
  },
  {
   "cell_type": "code",
   "execution_count": 6,
   "id": "280ad3d1",
   "metadata": {},
   "outputs": [],
   "source": [
    "data_dir_path = '/home/yohei/project/cs760/tiny-imagenet-200'\n",
    "# data_dir_path = 'D:/tiny-imagenet-200'\n",
    "\n",
    "# data augmentation\n",
    "\n",
    "def data_transform():\n",
    "    return T.Compose([\n",
    "        T.Resize(64),\n",
    "        T.ColorJitter(brightness=0.2),\n",
    "        T.RandomAffine(degrees=15, scale=(0.8,1.2), shear=10),\n",
    "        T.RandomHorizontalFlip(),\n",
    "        #T.RandomResizedCrop(64,scale=(0.7, 1.4)),\n",
    "        T.ToTensor(),\n",
    "    ])    \n",
    "    \n",
    "# create dataset object\n",
    "train_dataset = ImageFolder(data_dir_path + '/train', transform=data_transform())\n",
    "test_dataset = ImageFolder(data_dir_path + '/test', transform=T.ToTensor())\n",
    "\n",
    "d = {}\n",
    "f = open(data_dir_path+'/words.txt','r') \n",
    "while(1):\n",
    "    try:\n",
    "        key, val = f.readline().split(\"\\t\")\n",
    "        d[key] = val[:-1]\n",
    "    except Exception:\n",
    "        break\n",
    "        \n",
    "for i in range(len(train_dataset.classes)):\n",
    "    labels = d[train_dataset.classes[i]].split(',')\n",
    "    train_dataset.classes[i] = labels[0]"
   ]
  },
  {
   "cell_type": "code",
   "execution_count": 7,
   "id": "c9001625",
   "metadata": {},
   "outputs": [
    {
     "data": {
      "text/plain": [
       "(40000, 10000)"
      ]
     },
     "execution_count": 7,
     "metadata": {},
     "output_type": "execute_result"
    }
   ],
   "source": [
    "targets = np.array(train_dataset.targets)\n",
    "train_ind, temp_ind = train_test_split(np.arange(len(targets)),test_size=0.6,shuffle=True,stratify=targets)\n",
    "test_ind, val_ind = train_test_split(temp_ind,test_size=(1/6),stratify=targets[temp_ind])\n",
    "\n",
    "train_sampler = data.SubsetRandomSampler(train_ind)\n",
    "val_sampler = data.SubsetRandomSampler(val_ind)\n",
    "\n",
    "len(train_ind), len(val_ind)"
   ]
  },
  {
   "cell_type": "code",
   "execution_count": 8,
   "id": "fc71865a",
   "metadata": {},
   "outputs": [],
   "source": [
    "def count_similar(outputs, labels, n=10):\n",
    "    count = 0\n",
    "\n",
    "    for output, label in zip(outputs, labels):\n",
    "        max_n_index = output.detach().numpy().argsort()[-n:][::-1]\n",
    "        label = label.item()\n",
    "        \n",
    "        if label in max_n_index:\n",
    "            count += 1\n",
    "\n",
    "    return count"
   ]
  },
  {
   "cell_type": "code",
   "execution_count": 20,
   "id": "d48b89d1",
   "metadata": {},
   "outputs": [
    {
     "name": "stdout",
     "output_type": "stream",
     "text": [
      "Label: 0 - goldfish\n"
     ]
    },
    {
     "data": {
      "image/png": "[encoded data removed]",
      "text/plain": [
       "<Figure size 288x288 with 1 Axes>"
      ]
     },
     "metadata": {},
     "output_type": "display_data"
    }
   ],
   "source": [
    "def show_example(img, label):\n",
    "    print('Label: '+str(label)+' -',train_dataset.classes[label])\n",
    "    plt.imshow(img.permute(1, 2, 0))\n",
    "    \n",
    "show_example(*train_dataset[101])"
   ]
  },
  {
   "cell_type": "markdown",
   "id": "97827dc3",
   "metadata": {},
   "source": [
    "## Model Fitting"
   ]
  },
  {
   "cell_type": "code",
   "execution_count": 21,
   "id": "47b9aa7d",
   "metadata": {},
   "outputs": [],
   "source": [
    "def fit(net, optimizer, criterion, num_epochs, train_loader, test_loader, device, history):\n",
    "\n",
    "    # tqdmライブラリのインポート\n",
    "    from tqdm.notebook import tqdm\n",
    "\n",
    "    base_epochs = len(history)\n",
    "    \n",
    "    n = 1\n",
    "  \n",
    "    for epoch in range(base_epochs, num_epochs+base_epochs):\n",
    "        # learning rate decay\n",
    "        if (epoch+1) % (num_epochs/2) == 0:\n",
    "            for parm in optimizer.param_groups:\n",
    "                parm['lr'] /=  10 #3.16  #sqrt(10)\n",
    "        train_loss = 0.0\n",
    "        train_acc = 0.0\n",
    "        val_loss = 0.0\n",
    "        val_acc = 0.0\n",
    "\n",
    "        #訓練フェーズ: training phase\n",
    "        net.train()\n",
    "\n",
    "        for inputs, labels in tqdm(train_loader):\n",
    "            inputs = inputs.to(device)\n",
    "            labels = labels.to(device)\n",
    "            \n",
    "            # 勾配の初期化: initalize the gradient\n",
    "            optimizer.zero_grad()\n",
    "\n",
    "            # 予測計算: calc output\n",
    "            outputs = net(inputs)\n",
    "\n",
    "            # 損失計算: calc loss\n",
    "            loss = criterion(outputs, labels)\n",
    "            train_loss += loss.item()\n",
    "\n",
    "            # 勾配計算: calc gradient\n",
    "            loss.backward()\n",
    "\n",
    "            # パラメータ修正: parameter \n",
    "            optimizer.step()\n",
    "            \n",
    "            train_acc += count_similar(outputs, labels, n)\n",
    "\n",
    "        #予測フェーズ: test phase\n",
    "        net.eval()\n",
    "        count = 0\n",
    "\n",
    "        for inputs, labels in test_loader:\n",
    "            count += len(labels)\n",
    "            inputs = inputs.to(device)\n",
    "            labels = labels.to(device)\n",
    "\n",
    "            # 予測計算: calc prediction\n",
    "            outputs = net(inputs)\n",
    "\n",
    "            # 損失計算: calc loss\n",
    "            loss = criterion(outputs, labels)\n",
    "            val_loss += loss.item()\n",
    "            \n",
    "            val_acc += count_similar(outputs, labels, n)\n",
    "        \n",
    "        avg_train_loss = train_loss/len(train_ind)\n",
    "        avg_train_acc = train_acc/len(train_ind)\n",
    "        avg_val_loss = val_loss/len(val_ind)\n",
    "        avg_val_acc = val_acc/len(val_ind)\n",
    "    \n",
    "        print (f'Epoch [{(epoch+1)}/{num_epochs+base_epochs}], loss: {avg_train_loss:.5f} acc: {avg_train_acc:.5f} val_loss: {avg_val_loss:.5f}, val_acc: {avg_val_acc:.5f}')\n",
    "        item = np.array([epoch+1, avg_train_loss, avg_train_acc, avg_val_loss, avg_val_acc])\n",
    "        history = np.vstack((history, item))\n",
    "    return history"
   ]
  },
  {
   "cell_type": "markdown",
   "id": "562be903",
   "metadata": {},
   "source": [
    "## Model Performance"
   ]
  },
  {
   "cell_type": "code",
   "execution_count": 22,
   "id": "9afca78e",
   "metadata": {},
   "outputs": [],
   "source": [
    "# 学習ログ解析: the log for learning\n",
    "\n",
    "def evaluate_history(history):\n",
    "    #損失と精度の確認: loss and accuracy\n",
    "    print(f'Initial: loss: {history[0,3]:.5f} accuracy: {history[0,4]:.5f}') \n",
    "    print(f'Final: loss: {history[-1,3]:.5f} accuracy: {history[-1,4]:.5f}' )\n",
    "\n",
    "    num_epochs = len(history)\n",
    "    unit = num_epochs / 5\n",
    "\n",
    "    # 学習曲線の表示 (損失): learning curve (loss)\n",
    "    plt.figure(figsize=(9,8))\n",
    "    plt.plot(history[:,0], history[:,1], 'b', label='Training')\n",
    "    plt.plot(history[:,0], history[:,3], 'k', label='Test(Val)')\n",
    "    plt.xticks(np.arange(0,num_epochs+1, unit))\n",
    "    plt.xlabel('# of recursion')\n",
    "    plt.ylabel('Loss')\n",
    "    plt.title('Learning Curve (Loss)')\n",
    "    plt.legend()\n",
    "    plt.show()\n",
    "\n",
    "    # 学習曲線の表示 (精度): learning curve (accuracy)\n",
    "    plt.figure(figsize=(9,8))\n",
    "    plt.plot(history[:,0], history[:,2], 'b', label='Training')\n",
    "    plt.plot(history[:,0], history[:,4], 'k', label='Test(Val)')\n",
    "    plt.xticks(np.arange(0,num_epochs+1,unit))\n",
    "    plt.xlabel('# of recursion')\n",
    "    plt.ylabel('Accuracy')\n",
    "    plt.title('Learning Curve (Accuracy)')\n",
    "    plt.legend()\n",
    "    plt.show()"
   ]
  },
  {
   "cell_type": "code",
   "execution_count": 23,
   "id": "c9176ee8",
   "metadata": {},
   "outputs": [],
   "source": [
    "# PyTorch乱数固定用\n",
    "\n",
    "def torch_seed(seed=123):\n",
    "    torch.manual_seed(seed)\n",
    "    torch.cuda.manual_seed(seed)\n",
    "    torch.backends.cudnn.deterministic = True\n",
    "    torch.use_deterministic_algorithms = True"
   ]
  },
  {
   "cell_type": "markdown",
   "id": "edeeeb7f",
   "metadata": {},
   "source": [
    "## Data Pipelines"
   ]
  },
  {
   "cell_type": "code",
   "execution_count": 24,
   "id": "4886accf",
   "metadata": {},
   "outputs": [],
   "source": [
    "#batch_size = 100\n",
    "batch_size = 64\n",
    "\n",
    "# DataLoarder of Training data\n",
    "train_loader = DataLoader(train_dataset, batch_size=batch_size, sampler=train_sampler)\n",
    "\n",
    "# DataLoarder of Test data\n",
    "test_loader = DataLoader(train_dataset,  batch_size=batch_size, sampler=val_sampler) "
   ]
  },
  {
   "cell_type": "markdown",
   "id": "6861484c",
   "metadata": {},
   "source": [
    "# Def Model"
   ]
  },
  {
   "cell_type": "markdown",
   "id": "cc36c37d",
   "metadata": {},
   "source": [
    "### Parameters"
   ]
  },
  {
   "cell_type": "code",
   "execution_count": 25,
   "id": "035b4384",
   "metadata": {},
   "outputs": [
    {
     "name": "stdout",
     "output_type": "stream",
     "text": [
      "n_hidden: 1024 n_output: 200\n"
     ]
    }
   ],
   "source": [
    "# output degree: 出力次元数\n",
    "# number of classes: 分類先クラス数\n",
    "# n_output = len(classes)\n",
    "n_output = 200  # TODO: change to 500 (size of word vector) later\n",
    "\n",
    "# number of nodes of hidden layer 隠れ層のノード数\n",
    "n_hidden = 1024\n",
    "\n",
    "print(f'n_hidden: {n_hidden} n_output: {n_output}')\n",
    "\n"
   ]
  },
  {
   "cell_type": "markdown",
   "id": "bc83c956",
   "metadata": {},
   "source": [
    "### CNN Model"
   ]
  },
  {
   "cell_type": "code",
   "execution_count": 26,
   "id": "8502d4ae",
   "metadata": {},
   "outputs": [],
   "source": [
    "class CNN(nn.Module):\n",
    "    def __init__(self, n_output, n_hidden):\n",
    "        super().__init__()\n",
    "        self.conv1 = nn.Conv2d(3, 16, kernel_size=5, stride=1, padding=2)\n",
    "        self.conv2 = nn.Conv2d(16, 16, kernel_size=3, stride=1, padding=1)\n",
    "        self.bn2 = nn.BatchNorm2d(16)\n",
    "        self.conv3 = nn.Conv2d(16, 32, kernel_size=3, stride=1, padding=1)\n",
    "        self.bn3 = nn.BatchNorm2d(32)\n",
    "        self.relu = nn.ReLU(inplace=True)\n",
    "        self.maxpool = nn.MaxPool2d((2,2))\n",
    "        self.flatten = nn.Flatten()\n",
    "        self.dropout1 = nn.Dropout(p=0.3)\n",
    "        self.dropout2 = nn.Dropout(p=0.5)\n",
    "        self.l1 = nn.Linear(2048, n_hidden) # 16*32*32\n",
    "        self.l2 = nn.Linear(n_hidden, n_output)\n",
    "        \n",
    "        self.features = nn.Sequential(\n",
    "            \n",
    "            self.conv1,\n",
    "            self.relu,\n",
    "            self.maxpool,\n",
    "            \n",
    "            self.conv2,\n",
    "            self.relu,\n",
    "            self.bn2,\n",
    "            self.maxpool,\n",
    "            self.dropout1,\n",
    "            \n",
    "            self.conv3,\n",
    "            self.relu,\n",
    "            self.bn3,\n",
    "            self.maxpool,\n",
    "            self.dropout1,\n",
    "\n",
    "        )\n",
    "\n",
    "        self.classifier = nn.Sequential(\n",
    "           self.l1,\n",
    "           self.relu,\n",
    "           self.dropout2,\n",
    "           self.l2)\n",
    "\n",
    "    def forward(self, x):\n",
    "        x1 = self.features(x)\n",
    "        x2 = self.flatten(x1)\n",
    "        x3 = self.classifier(x2)\n",
    "        return x3"
   ]
  },
  {
   "cell_type": "markdown",
   "id": "9a67af83",
   "metadata": {},
   "source": [
    "### Create model instance"
   ]
  },
  {
   "cell_type": "code",
   "execution_count": 28,
   "id": "6d6eae7d",
   "metadata": {},
   "outputs": [
    {
     "ename": "RuntimeError",
     "evalue": "CUDA error: out of memory\nCUDA kernel errors might be asynchronously reported at some other API call,so the stacktrace below might be incorrect.\nFor debugging consider passing CUDA_LAUNCH_BLOCKING=1.",
     "output_type": "error",
     "traceback": [
      "\u001b[0;31m---------------------------------------------------------------------------\u001b[0m",
      "\u001b[0;31mRuntimeError\u001b[0m                              Traceback (most recent call last)",
      "\u001b[0;32m/tmp/ipykernel_20682/1897455876.py\u001b[0m in \u001b[0;36m<module>\u001b[0;34m\u001b[0m\n\u001b[1;32m      6\u001b[0m \u001b[0;34m\u001b[0m\u001b[0m\n\u001b[1;32m      7\u001b[0m \u001b[0;31m# summary of model:モデルのサマリー表示\u001b[0m\u001b[0;34m\u001b[0m\u001b[0;34m\u001b[0m\u001b[0;34m\u001b[0m\u001b[0m\n\u001b[0;32m----> 8\u001b[0;31m \u001b[0msummary\u001b[0m\u001b[0;34m(\u001b[0m\u001b[0mnet\u001b[0m\u001b[0;34m,\u001b[0m\u001b[0;34m(\u001b[0m\u001b[0mbatch_size\u001b[0m\u001b[0;34m,\u001b[0m\u001b[0;36m3\u001b[0m\u001b[0;34m,\u001b[0m\u001b[0;36m64\u001b[0m\u001b[0;34m,\u001b[0m\u001b[0;36m64\u001b[0m\u001b[0;34m)\u001b[0m\u001b[0;34m,\u001b[0m\u001b[0mdepth\u001b[0m\u001b[0;34m=\u001b[0m\u001b[0;36m1\u001b[0m\u001b[0;34m)\u001b[0m\u001b[0;34m\u001b[0m\u001b[0;34m\u001b[0m\u001b[0m\n\u001b[0m",
      "\u001b[0;32m~/anaconda3/envs/deep_py3/lib/python3.7/site-packages/torchinfo/torchinfo.py\u001b[0m in \u001b[0;36msummary\u001b[0;34m(model, input_size, input_data, batch_dim, cache_forward_pass, col_names, col_width, depth, device, dtypes, row_settings, verbose, **kwargs)\u001b[0m\n\u001b[1;32m    190\u001b[0m \u001b[0;34m\u001b[0m\u001b[0m\n\u001b[1;32m    191\u001b[0m     x, correct_input_size = process_input(\n\u001b[0;32m--> 192\u001b[0;31m         \u001b[0minput_data\u001b[0m\u001b[0;34m,\u001b[0m \u001b[0minput_size\u001b[0m\u001b[0;34m,\u001b[0m \u001b[0mbatch_dim\u001b[0m\u001b[0;34m,\u001b[0m \u001b[0mdevice\u001b[0m\u001b[0;34m,\u001b[0m \u001b[0mdtypes\u001b[0m\u001b[0;34m\u001b[0m\u001b[0;34m\u001b[0m\u001b[0m\n\u001b[0m\u001b[1;32m    193\u001b[0m     )\n\u001b[1;32m    194\u001b[0m     summary_list = forward_pass(\n",
      "\u001b[0;32m~/anaconda3/envs/deep_py3/lib/python3.7/site-packages/torchinfo/torchinfo.py\u001b[0m in \u001b[0;36mprocess_input\u001b[0;34m(input_data, input_size, batch_dim, device, dtypes)\u001b[0m\n\u001b[1;32m    224\u001b[0m             \u001b[0mdtypes\u001b[0m \u001b[0;34m=\u001b[0m \u001b[0;34m[\u001b[0m\u001b[0mtorch\u001b[0m\u001b[0;34m.\u001b[0m\u001b[0mfloat\u001b[0m\u001b[0;34m]\u001b[0m \u001b[0;34m*\u001b[0m \u001b[0mlen\u001b[0m\u001b[0;34m(\u001b[0m\u001b[0minput_size\u001b[0m\u001b[0;34m)\u001b[0m\u001b[0;34m\u001b[0m\u001b[0;34m\u001b[0m\u001b[0m\n\u001b[1;32m    225\u001b[0m         \u001b[0mcorrect_input_size\u001b[0m \u001b[0;34m=\u001b[0m \u001b[0mget_correct_input_sizes\u001b[0m\u001b[0;34m(\u001b[0m\u001b[0minput_size\u001b[0m\u001b[0;34m)\u001b[0m\u001b[0;34m\u001b[0m\u001b[0;34m\u001b[0m\u001b[0m\n\u001b[0;32m--> 226\u001b[0;31m         \u001b[0mx\u001b[0m \u001b[0;34m=\u001b[0m \u001b[0mget_input_tensor\u001b[0m\u001b[0;34m(\u001b[0m\u001b[0mcorrect_input_size\u001b[0m\u001b[0;34m,\u001b[0m \u001b[0mbatch_dim\u001b[0m\u001b[0;34m,\u001b[0m \u001b[0mdtypes\u001b[0m\u001b[0;34m,\u001b[0m \u001b[0mdevice\u001b[0m\u001b[0;34m)\u001b[0m\u001b[0;34m\u001b[0m\u001b[0;34m\u001b[0m\u001b[0m\n\u001b[0m\u001b[1;32m    227\u001b[0m \u001b[0;34m\u001b[0m\u001b[0m\n\u001b[1;32m    228\u001b[0m     \u001b[0;32mreturn\u001b[0m \u001b[0mx\u001b[0m\u001b[0;34m,\u001b[0m \u001b[0mcorrect_input_size\u001b[0m\u001b[0;34m\u001b[0m\u001b[0;34m\u001b[0m\u001b[0m\n",
      "\u001b[0;32m~/anaconda3/envs/deep_py3/lib/python3.7/site-packages/torchinfo/torchinfo.py\u001b[0m in \u001b[0;36mget_input_tensor\u001b[0;34m(input_size, batch_dim, dtypes, device)\u001b[0m\n\u001b[1;32m    394\u001b[0m         \u001b[0;32mif\u001b[0m \u001b[0mbatch_dim\u001b[0m \u001b[0;32mis\u001b[0m \u001b[0;32mnot\u001b[0m \u001b[0;32mNone\u001b[0m\u001b[0;34m:\u001b[0m\u001b[0;34m\u001b[0m\u001b[0;34m\u001b[0m\u001b[0m\n\u001b[1;32m    395\u001b[0m             \u001b[0minput_tensor\u001b[0m \u001b[0;34m=\u001b[0m \u001b[0minput_tensor\u001b[0m\u001b[0;34m.\u001b[0m\u001b[0munsqueeze\u001b[0m\u001b[0;34m(\u001b[0m\u001b[0mdim\u001b[0m\u001b[0;34m=\u001b[0m\u001b[0mbatch_dim\u001b[0m\u001b[0;34m)\u001b[0m\u001b[0;34m\u001b[0m\u001b[0;34m\u001b[0m\u001b[0m\n\u001b[0;32m--> 396\u001b[0;31m         \u001b[0mx\u001b[0m\u001b[0;34m.\u001b[0m\u001b[0mappend\u001b[0m\u001b[0;34m(\u001b[0m\u001b[0minput_tensor\u001b[0m\u001b[0;34m.\u001b[0m\u001b[0mto\u001b[0m\u001b[0;34m(\u001b[0m\u001b[0mdevice\u001b[0m\u001b[0;34m)\u001b[0m\u001b[0;34m.\u001b[0m\u001b[0mtype\u001b[0m\u001b[0;34m(\u001b[0m\u001b[0mdtype\u001b[0m\u001b[0;34m)\u001b[0m\u001b[0;34m)\u001b[0m\u001b[0;34m\u001b[0m\u001b[0;34m\u001b[0m\u001b[0m\n\u001b[0m\u001b[1;32m    397\u001b[0m     \u001b[0;32mreturn\u001b[0m \u001b[0mx\u001b[0m\u001b[0;34m\u001b[0m\u001b[0;34m\u001b[0m\u001b[0m\n\u001b[1;32m    398\u001b[0m \u001b[0;34m\u001b[0m\u001b[0m\n",
      "\u001b[0;31mRuntimeError\u001b[0m: CUDA error: out of memory\nCUDA kernel errors might be asynchronously reported at some other API call,so the stacktrace below might be incorrect.\nFor debugging consider passing CUDA_LAUNCH_BLOCKING=1."
     ]
    }
   ],
   "source": [
    "# init randam, 乱数初期化\n",
    "torch_seed()\n",
    "\n",
    "# create model instanceモデルインスタンス生成\n",
    "net = CNN(n_output, n_hidden).to(device)\n",
    "\n",
    "# summary of model:モデルのサマリー表示\n",
    "summary(net,(batch_size,3,64,64),depth=1)"
   ]
  },
  {
   "cell_type": "code",
   "execution_count": null,
   "id": "702aa541",
   "metadata": {},
   "outputs": [],
   "source": [
    "# loss function: cross entropy損失関数： 交差エントロピー関数\n",
    "criterion = nn.CrossEntropyLoss().to(device)\n",
    "\n",
    "# learning step 学習率\n",
    "lr = 0.001\n",
    "\n",
    "# optimizser 最適化関数: 勾配降下法\n",
    "optimizer = optim.Adam(net.parameters(),lr=lr)\n",
    "#optimizer = optim.SGD(net.parameters(), lr=lr, momentum=0.9)\n",
    "\n",
    "# epock 繰り返し回数\n",
    "num_epochs = 5\n",
    "\n",
    "# output 評価結果記録用\n",
    "history = np.zeros((0,5))\n",
    "\n",
    "# learning: 学習\n",
    "history = fit(net, optimizer, criterion, num_epochs, train_loader, test_loader, device, history)"
   ]
  },
  {
   "cell_type": "code",
   "execution_count": 18,
   "id": "36f65453",
   "metadata": {},
   "outputs": [
    {
     "ename": "NameError",
     "evalue": "name 'net' is not defined",
     "output_type": "error",
     "traceback": [
      "\u001b[0;31m---------------------------------------------------------------------------\u001b[0m",
      "\u001b[0;31mNameError\u001b[0m                                 Traceback (most recent call last)",
      "\u001b[0;32m/tmp/ipykernel_20682/3050782750.py\u001b[0m in \u001b[0;36m<module>\u001b[0;34m\u001b[0m\n\u001b[0;32m----> 1\u001b[0;31m \u001b[0mtorch\u001b[0m\u001b[0;34m.\u001b[0m\u001b[0msave\u001b[0m\u001b[0;34m(\u001b[0m\u001b[0mnet\u001b[0m\u001b[0;34m.\u001b[0m\u001b[0mstate_dict\u001b[0m\u001b[0;34m(\u001b[0m\u001b[0;34m)\u001b[0m\u001b[0;34m,\u001b[0m \u001b[0;34m'./cnn_best_so_far_40epoch.pth'\u001b[0m\u001b[0;34m)\u001b[0m\u001b[0;34m\u001b[0m\u001b[0;34m\u001b[0m\u001b[0m\n\u001b[0m",
      "\u001b[0;31mNameError\u001b[0m: name 'net' is not defined"
     ]
    }
   ],
   "source": [
    "torch.save(net.state_dict(), './cnn_best_so_far_40epoch.pth')"
   ]
  },
  {
   "cell_type": "code",
   "execution_count": 19,
   "id": "4485c883",
   "metadata": {},
   "outputs": [
    {
     "ename": "NameError",
     "evalue": "name 'history' is not defined",
     "output_type": "error",
     "traceback": [
      "\u001b[0;31m---------------------------------------------------------------------------\u001b[0m",
      "\u001b[0;31mNameError\u001b[0m                                 Traceback (most recent call last)",
      "\u001b[0;32m/tmp/ipykernel_20682/482616374.py\u001b[0m in \u001b[0;36m<module>\u001b[0;34m\u001b[0m\n\u001b[1;32m      1\u001b[0m \u001b[0;31m# 評価\u001b[0m\u001b[0;34m\u001b[0m\u001b[0;34m\u001b[0m\u001b[0;34m\u001b[0m\u001b[0m\n\u001b[0;32m----> 2\u001b[0;31m \u001b[0mevaluate_history\u001b[0m\u001b[0;34m(\u001b[0m\u001b[0mhistory\u001b[0m\u001b[0;34m)\u001b[0m\u001b[0;34m\u001b[0m\u001b[0;34m\u001b[0m\u001b[0m\n\u001b[0m",
      "\u001b[0;31mNameError\u001b[0m: name 'history' is not defined"
     ]
    }
   ],
   "source": [
    "# 評価\n",
    "evaluate_history(history)"
   ]
  },
  {
   "cell_type": "code",
   "execution_count": null,
   "id": "f526ec3f",
   "metadata": {},
   "outputs": [],
   "source": []
  },
  {
   "cell_type": "code",
   "execution_count": null,
   "id": "182a5a66",
   "metadata": {},
   "outputs": [],
   "source": []
  }
 ],
 "metadata": {
  "kernelspec": {
   "display_name": "Python 3 (ipykernel)",
   "language": "python",
   "name": "python3"
  },
  "language_info": {
   "codemirror_mode": {
    "name": "ipython",
    "version": 3
   },
   "file_extension": ".py",
   "mimetype": "text/x-python",
   "name": "python",
   "nbconvert_exporter": "python",
   "pygments_lexer": "ipython3",
   "version": "3.7.10"
  }
 },
 "nbformat": 4,
 "nbformat_minor": 5
}
