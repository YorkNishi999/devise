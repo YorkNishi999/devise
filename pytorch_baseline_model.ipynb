{
 "cells": [
  {
   "cell_type": "code",
   "execution_count": 1,
   "id": "2ca8825a",
   "metadata": {},
   "outputs": [],
   "source": [
    "# base_dir = '/content/drive/MyDrive/CS760-project'\n",
    "base_dir = '.'\n",
    "\n",
    "import warnings\n",
    "warnings.simplefilter('ignore')"
   ]
  },
  {
   "cell_type": "markdown",
   "id": "c033ec7b",
   "metadata": {},
   "source": [
    "# Imports"
   ]
  },
  {
   "cell_type": "code",
   "execution_count": 2,
   "id": "59fa1b52",
   "metadata": {},
   "outputs": [],
   "source": [
    "%matplotlib inline\n",
    "import numpy as np\n",
    "import matplotlib\n",
    "import matplotlib.pyplot as plt\n",
    "from IPython.display import display\n",
    "from sklearn.model_selection import train_test_split\n",
    "\n",
    "matplotlib.rcParams['figure.facecolor'] = '#ffffff'"
   ]
  },
  {
   "cell_type": "code",
   "execution_count": 3,
   "id": "bad6b69c",
   "metadata": {},
   "outputs": [],
   "source": [
    "# torch\n",
    "\n",
    "import torch\n",
    "import torch.nn as nn\n",
    "import torch.optim as optim\n",
    "from torchinfo import summary\n",
    "from torchviz import make_dot\n",
    "import torchvision.datasets as datasets\n",
    "import torchvision.transforms as transforms\n",
    "# from torch.utils.data import DataLoader\n",
    "\n",
    "import os\n",
    "import torchvision\n",
    "from torchvision.datasets.utils import download_url\n",
    "from torchvision.datasets import ImageFolder\n",
    "# from torchvision.transforms import ToTensor\n",
    "import torchvision.transforms as T\n",
    "from torch.utils.data import random_split\n",
    "import torch.utils.data as data\n",
    "from torch.utils.data.dataloader import DataLoader\n",
    "\n",
    "import matplotlib.pyplot as plt\n",
    "from PIL import Image\n",
    "\n",
    "\n",
    "import torch.nn as nn\n",
    "import torch.nn.functional as F\n",
    "\n",
    "import gensim\n",
    "import gensim.downloader"
   ]
  },
  {
   "cell_type": "code",
   "execution_count": 4,
   "id": "747334a6",
   "metadata": {},
   "outputs": [],
   "source": [
    "# default font\n",
    "plt.rcParams['font.size'] = 14\n",
    "\n",
    "# default graph size\n",
    "plt.rcParams['figure.figsize'] = (4,4)\n",
    "\n",
    "# default graph grid\n",
    "# plt.rcParams['axes.grid'] = True\n",
    "\n",
    "# numpy precision\n",
    "np.set_printoptions(suppress=True, precision=5)"
   ]
  },
  {
   "cell_type": "markdown",
   "id": "ce26039e",
   "metadata": {},
   "source": [
    "# GPU Support"
   ]
  },
  {
   "cell_type": "code",
   "execution_count": 5,
   "id": "cd82df7d",
   "metadata": {},
   "outputs": [
    {
     "name": "stdout",
     "output_type": "stream",
     "text": [
      "cuda:0\n"
     ]
    }
   ],
   "source": [
    "# device\n",
    "\n",
    "device = torch.device(\"cuda:0\" if torch.cuda.is_available() else \"cpu\")\n",
    "print(device)"
   ]
  },
  {
   "cell_type": "markdown",
   "id": "ba129a59",
   "metadata": {},
   "source": [
    "# Data Preparation"
   ]
  },
  {
   "cell_type": "code",
   "execution_count": 6,
   "id": "280ad3d1",
   "metadata": {},
   "outputs": [],
   "source": [
    "data_dir_path = '/home/yohei/project/cs760/tiny-imagenet-200'\n",
    "# data_dir_path = 'D:/tiny-imagenet-200'\n",
    "\n",
    "# data augmentation\n",
    "\n",
    "def data_transform():\n",
    "    return T.Compose([\n",
    "        T.Resize(64),\n",
    "        T.ColorJitter(brightness=0.2),\n",
    "        T.RandomAffine(degrees=15, scale=(0.8,1.2), shear=10),\n",
    "        T.RandomHorizontalFlip(),\n",
    "        #T.RandomResizedCrop(64,scale=(0.7, 1.4)),\n",
    "        T.ToTensor(),\n",
    "    ])    \n",
    "    \n",
    "# create dataset object\n",
    "train_dataset = ImageFolder(data_dir_path + '/train', transform=data_transform())\n",
    "test_dataset = ImageFolder(data_dir_path + '/test', transform=T.ToTensor())\n",
    "\n",
    "d = {}\n",
    "f = open(data_dir_path+'/words.txt','r') \n",
    "while(1):\n",
    "    try:\n",
    "        key, val = f.readline().split(\"\\t\")\n",
    "        d[key] = val[:-1]\n",
    "    except Exception:\n",
    "        break\n",
    "        \n",
    "for i in range(len(train_dataset.classes)):\n",
    "    labels = d[train_dataset.classes[i]].split(',')\n",
    "    train_dataset.classes[i] = labels[0]"
   ]
  },
  {
   "cell_type": "code",
   "execution_count": 7,
   "id": "c9001625",
   "metadata": {},
   "outputs": [
    {
     "data": {
      "text/plain": [
       "(40000, 10000)"
      ]
     },
     "execution_count": 7,
     "metadata": {},
     "output_type": "execute_result"
    }
   ],
   "source": [
    "targets = np.array(train_dataset.targets)\n",
    "train_ind, temp_ind = train_test_split(np.arange(len(targets)),test_size=0.6,shuffle=True,stratify=targets)\n",
    "test_ind, val_ind = train_test_split(temp_ind,test_size=(1/6),stratify=targets[temp_ind])\n",
    "\n",
    "train_sampler = data.SubsetRandomSampler(train_ind)\n",
    "val_sampler = data.SubsetRandomSampler(val_ind)\n",
    "\n",
    "len(train_ind), len(val_ind)"
   ]
  },
  {
   "cell_type": "code",
   "execution_count": 8,
   "id": "fc71865a",
   "metadata": {},
   "outputs": [],
   "source": [
    "def count_similar(outputs, labels, n=10):\n",
    "    count = 0\n",
    "\n",
    "    for output, label in zip(outputs, labels):\n",
    "        max_n_index = output.cpu().detach().numpy().argsort()[-n:][::-1]\n",
    "        label = label.item()\n",
    "        \n",
    "        if label in max_n_index:\n",
    "            count += 1\n",
    "\n",
    "    return count"
   ]
  },
  {
   "cell_type": "code",
   "execution_count": 9,
   "id": "d48b89d1",
   "metadata": {},
   "outputs": [
    {
     "name": "stdout",
     "output_type": "stream",
     "text": [
      "Label: 0 - goldfish\n"
     ]
    },
    {
     "data": {
      "image/png": "[encoded data removed]",
      "text/plain": [
       "<Figure size 288x288 with 1 Axes>"
      ]
     },
     "metadata": {},
     "output_type": "display_data"
    }
   ],
   "source": [
    "def show_example(img, label):\n",
    "    print('Label: '+str(label)+' -',train_dataset.classes[label])\n",
    "    plt.imshow(img.permute(1, 2, 0))\n",
    "    \n",
    "show_example(*train_dataset[101])"
   ]
  },
  {
   "cell_type": "markdown",
   "id": "97827dc3",
   "metadata": {},
   "source": [
    "## Model Fitting"
   ]
  },
  {
   "cell_type": "code",
   "execution_count": 10,
   "id": "47b9aa7d",
   "metadata": {},
   "outputs": [],
   "source": [
    "def fit(net, optimizer, criterion, num_epochs, train_loader, test_loader, device, history):\n",
    "\n",
    "    # tqdmライブラリのインポート\n",
    "    from tqdm.notebook import tqdm\n",
    "\n",
    "    base_epochs = len(history)\n",
    "    \n",
    "    n = 1\n",
    "  \n",
    "    for epoch in range(base_epochs, num_epochs+base_epochs):\n",
    "        # learning rate decay\n",
    "        if (epoch+1) % (num_epochs/2) == 0:\n",
    "            for parm in optimizer.param_groups:\n",
    "                parm['lr'] /=  10 #3.16  #sqrt(10)\n",
    "        train_loss = 0.0\n",
    "        train_acc = 0.0\n",
    "        val_loss = 0.0\n",
    "        val_acc = 0.0\n",
    "\n",
    "        #訓練フェーズ: training phase\n",
    "        net.train()\n",
    "\n",
    "        for inputs, labels in tqdm(train_loader):\n",
    "            inputs = inputs.to(device)\n",
    "            labels = labels.to(device)\n",
    "            \n",
    "            # 勾配の初期化: initalize the gradient\n",
    "            optimizer.zero_grad()\n",
    "\n",
    "            # 予測計算: calc output\n",
    "            outputs = net(inputs)\n",
    "\n",
    "            # 損失計算: calc loss\n",
    "            loss = criterion(outputs, labels)\n",
    "            train_loss += loss.item()\n",
    "\n",
    "            # 勾配計算: calc gradient\n",
    "            loss.backward()\n",
    "\n",
    "            # パラメータ修正: parameter \n",
    "            optimizer.step()\n",
    "            \n",
    "            train_acc += count_similar(outputs, labels, n)\n",
    "\n",
    "        #予測フェーズ: test phase\n",
    "        net.eval()\n",
    "        count = 0\n",
    "\n",
    "        for inputs, labels in test_loader:\n",
    "            count += len(labels)\n",
    "            inputs = inputs.to(device)\n",
    "            labels = labels.to(device)\n",
    "\n",
    "            # 予測計算: calc prediction\n",
    "            outputs = net(inputs)\n",
    "\n",
    "            # 損失計算: calc loss\n",
    "            loss = criterion(outputs, labels)\n",
    "            val_loss += loss.item()\n",
    "            \n",
    "            val_acc += count_similar(outputs, labels, n)\n",
    "        \n",
    "        avg_train_loss = train_loss/len(train_ind)\n",
    "        avg_train_acc = train_acc/len(train_ind)\n",
    "        avg_val_loss = val_loss/len(val_ind)\n",
    "        avg_val_acc = val_acc/len(val_ind)\n",
    "    \n",
    "        print (f'Epoch [{(epoch+1)}/{num_epochs+base_epochs}], loss: {avg_train_loss:.5f} acc: {avg_train_acc:.5f} val_loss: {avg_val_loss:.5f}, val_acc: {avg_val_acc:.5f}')\n",
    "        item = np.array([epoch+1, avg_train_loss, avg_train_acc, avg_val_loss, avg_val_acc])\n",
    "        history = np.vstack((history, item))\n",
    "    return history"
   ]
  },
  {
   "cell_type": "markdown",
   "id": "562be903",
   "metadata": {},
   "source": [
    "## Model Performance"
   ]
  },
  {
   "cell_type": "code",
   "execution_count": 11,
   "id": "9afca78e",
   "metadata": {},
   "outputs": [],
   "source": [
    "# 学習ログ解析: the log for learning\n",
    "\n",
    "def evaluate_history(history):\n",
    "    #損失と精度の確認: loss and accuracy\n",
    "    print(f'Initial: loss: {history[0,3]:.5f} accuracy: {history[0,4]:.5f}') \n",
    "    print(f'Final: loss: {history[-1,3]:.5f} accuracy: {history[-1,4]:.5f}' )\n",
    "\n",
    "    num_epochs = len(history)\n",
    "    unit = num_epochs / 5\n",
    "\n",
    "    # 学習曲線の表示 (損失): learning curve (loss)\n",
    "    plt.figure(figsize=(9,8))\n",
    "    plt.plot(history[:,0], history[:,1], 'b', label='Training')\n",
    "    plt.plot(history[:,0], history[:,3], 'k', label='Test(Val)')\n",
    "    plt.xticks(np.arange(0,num_epochs+1, unit))\n",
    "    plt.xlabel('# of recursion')\n",
    "    plt.ylabel('Loss')\n",
    "    plt.title('Learning Curve (Loss)')\n",
    "    plt.legend()\n",
    "    plt.show()\n",
    "\n",
    "    # 学習曲線の表示 (精度): learning curve (accuracy)\n",
    "    plt.figure(figsize=(9,8))\n",
    "    plt.plot(history[:,0], history[:,2], 'b', label='Training')\n",
    "    plt.plot(history[:,0], history[:,4], 'k', label='Test(Val)')\n",
    "    plt.xticks(np.arange(0,num_epochs+1,unit))\n",
    "    plt.xlabel('# of recursion')\n",
    "    plt.ylabel('Accuracy')\n",
    "    plt.title('Learning Curve (Accuracy)')\n",
    "    plt.legend()\n",
    "    plt.show()"
   ]
  },
  {
   "cell_type": "code",
   "execution_count": 12,
   "id": "c9176ee8",
   "metadata": {},
   "outputs": [],
   "source": [
    "# PyTorch乱数固定用\n",
    "\n",
    "def torch_seed(seed=123):\n",
    "    torch.manual_seed(seed)\n",
    "    torch.cuda.manual_seed(seed)\n",
    "    torch.backends.cudnn.deterministic = True\n",
    "    torch.use_deterministic_algorithms = True"
   ]
  },
  {
   "cell_type": "markdown",
   "id": "edeeeb7f",
   "metadata": {},
   "source": [
    "## Data Pipelines"
   ]
  },
  {
   "cell_type": "code",
   "execution_count": 13,
   "id": "4886accf",
   "metadata": {},
   "outputs": [],
   "source": [
    "#batch_size = 100\n",
    "batch_size = 64\n",
    "\n",
    "# DataLoarder of Training data\n",
    "train_loader = DataLoader(train_dataset, batch_size=batch_size, sampler=train_sampler)\n",
    "\n",
    "# DataLoarder of Test data\n",
    "test_loader = DataLoader(train_dataset,  batch_size=batch_size, sampler=val_sampler) "
   ]
  },
  {
   "cell_type": "markdown",
   "id": "6861484c",
   "metadata": {},
   "source": [
    "# Def Model"
   ]
  },
  {
   "cell_type": "markdown",
   "id": "cc36c37d",
   "metadata": {},
   "source": [
    "### Parameters"
   ]
  },
  {
   "cell_type": "code",
   "execution_count": 14,
   "id": "035b4384",
   "metadata": {},
   "outputs": [
    {
     "name": "stdout",
     "output_type": "stream",
     "text": [
      "n_hidden: 1024 n_output: 200\n"
     ]
    }
   ],
   "source": [
    "# output degree: 出力次元数\n",
    "# number of classes: 分類先クラス数\n",
    "# n_output = len(classes)\n",
    "n_output = 200  # TODO: change to 500 (size of word vector) later\n",
    "\n",
    "# number of nodes of hidden layer 隠れ層のノード数\n",
    "n_hidden = 1024\n",
    "\n",
    "print(f'n_hidden: {n_hidden} n_output: {n_output}')\n",
    "\n"
   ]
  },
  {
   "cell_type": "markdown",
   "id": "bc83c956",
   "metadata": {},
   "source": [
    "### CNN Model"
   ]
  },
  {
   "cell_type": "code",
   "execution_count": 15,
   "id": "8502d4ae",
   "metadata": {},
   "outputs": [],
   "source": [
    "class CNN(nn.Module):\n",
    "    def __init__(self, n_output, n_hidden):\n",
    "        super().__init__()\n",
    "        self.conv1 = nn.Conv2d(3, 16, kernel_size=5, stride=1, padding=2)\n",
    "        self.conv2 = nn.Conv2d(16, 16, kernel_size=3, stride=1, padding=1)\n",
    "        self.bn2 = nn.BatchNorm2d(16)\n",
    "        self.conv3 = nn.Conv2d(16, 32, kernel_size=3, stride=1, padding=1)\n",
    "        self.bn3 = nn.BatchNorm2d(32)\n",
    "        self.relu = nn.ReLU(inplace=True)\n",
    "        self.maxpool = nn.MaxPool2d((2,2))\n",
    "        self.flatten = nn.Flatten()\n",
    "        self.dropout1 = nn.Dropout(p=0.3)\n",
    "        self.dropout2 = nn.Dropout(p=0.5)\n",
    "        self.l1 = nn.Linear(2048, n_hidden) # 16*32*32\n",
    "        self.l2 = nn.Linear(n_hidden, n_output)\n",
    "        \n",
    "        self.features = nn.Sequential(\n",
    "            \n",
    "            self.conv1,\n",
    "            self.relu,\n",
    "            self.maxpool,\n",
    "            \n",
    "            self.conv2,\n",
    "            self.relu,\n",
    "            self.bn2,\n",
    "            self.maxpool,\n",
    "            self.dropout1,\n",
    "            \n",
    "            self.conv3,\n",
    "            self.relu,\n",
    "            self.bn3,\n",
    "            self.maxpool,\n",
    "            self.dropout1,\n",
    "\n",
    "        )\n",
    "\n",
    "        self.classifier = nn.Sequential(\n",
    "           self.l1,\n",
    "           self.relu,\n",
    "           self.dropout2,\n",
    "           self.l2)\n",
    "\n",
    "    def forward(self, x):\n",
    "        x1 = self.features(x)\n",
    "        x2 = self.flatten(x1)\n",
    "        x3 = self.classifier(x2)\n",
    "        return x3"
   ]
  },
  {
   "cell_type": "markdown",
   "id": "9a67af83",
   "metadata": {},
   "source": [
    "### Create model instance"
   ]
  },
  {
   "cell_type": "code",
   "execution_count": 16,
   "id": "6d6eae7d",
   "metadata": {},
   "outputs": [
    {
     "data": {
      "text/plain": [
       "==========================================================================================\n",
       "Layer (type:depth-idx)                   Output Shape              Param #\n",
       "==========================================================================================\n",
       "CNN                                      --                        --\n",
       "├─Sequential: 1-1                        [64, 32, 8, 8]            8,272\n",
       "├─Conv2d: 1-2                            [64, 16, 64, 64]          1,216\n",
       "├─ReLU: 1-3                              [64, 16, 64, 64]          --\n",
       "├─MaxPool2d: 1-4                         [64, 16, 32, 32]          --\n",
       "├─Conv2d: 1-5                            [64, 16, 32, 32]          2,320\n",
       "├─ReLU: 1-6                              [64, 16, 32, 32]          --\n",
       "├─BatchNorm2d: 1-7                       [64, 16, 32, 32]          32\n",
       "├─MaxPool2d: 1-8                         [64, 16, 16, 16]          --\n",
       "├─Dropout: 1-9                           [64, 16, 16, 16]          --\n",
       "├─Conv2d: 1-10                           [64, 32, 16, 16]          4,640\n",
       "├─ReLU: 1-11                             [64, 32, 16, 16]          --\n",
       "├─BatchNorm2d: 1-12                      [64, 32, 16, 16]          64\n",
       "├─MaxPool2d: 1-13                        [64, 32, 8, 8]            --\n",
       "├─Dropout: 1-14                          [64, 32, 8, 8]            --\n",
       "├─Flatten: 1-15                          [64, 2048]                --\n",
       "├─Sequential: 1-16                       [64, 200]                 2,303,176\n",
       "├─Linear: 1-17                           [64, 1024]                2,098,176\n",
       "├─ReLU: 1-18                             [64, 1024]                --\n",
       "├─Dropout: 1-19                          [64, 1024]                --\n",
       "├─Linear: 1-20                           [64, 200]                 205,000\n",
       "==========================================================================================\n",
       "Total params: 2,311,448\n",
       "Trainable params: 2,311,448\n",
       "Non-trainable params: 0\n",
       "Total mult-adds (G): 1.39\n",
       "==========================================================================================\n",
       "Input size (MB): 3.15\n",
       "Forward/backward pass size (MB): 59.35\n",
       "Params size (MB): 9.25\n",
       "Estimated Total Size (MB): 71.74\n",
       "=========================================================================================="
      ]
     },
     "execution_count": 16,
     "metadata": {},
     "output_type": "execute_result"
    }
   ],
   "source": [
    "# init randam, 乱数初期化\n",
    "torch_seed()\n",
    "\n",
    "# create model instanceモデルインスタンス生成\n",
    "net = CNN(n_output, n_hidden).to(device)\n",
    "\n",
    "# summary of model:モデルのサマリー表示\n",
    "summary(net,(batch_size,3,64,64),depth=1)"
   ]
  },
  {
   "cell_type": "code",
   "execution_count": 17,
   "id": "702aa541",
   "metadata": {},
   "outputs": [
    {
     "data": {
      "application/vnd.jupyter.widget-view+json": {
       "model_id": "d0c53cbadb434985a553dfba877ecfc0",
       "version_major": 2,
       "version_minor": 0
      },
      "text/plain": [
       "  0%|          | 0/625 [00:00<?, ?it/s]"
      ]
     },
     "metadata": {},
     "output_type": "display_data"
    },
    {
     "name": "stdout",
     "output_type": "stream",
     "text": [
      "Epoch [1/5], loss: 0.07959 acc: 0.02235 val_loss: 0.07785, val_acc: 0.03430\n"
     ]
    },
    {
     "data": {
      "application/vnd.jupyter.widget-view+json": {
       "model_id": "7aa66067522843d68c1410c37225d40a",
       "version_major": 2,
       "version_minor": 0
      },
      "text/plain": [
       "  0%|          | 0/625 [00:00<?, ?it/s]"
      ]
     },
     "metadata": {},
     "output_type": "display_data"
    },
    {
     "name": "stdout",
     "output_type": "stream",
     "text": [
      "Epoch [2/5], loss: 0.07497 acc: 0.04702 val_loss: 0.07285, val_acc: 0.05980\n"
     ]
    },
    {
     "data": {
      "application/vnd.jupyter.widget-view+json": {
       "model_id": "94abfeaf97b04f99b2cb5de0c3398de8",
       "version_major": 2,
       "version_minor": 0
      },
      "text/plain": [
       "  0%|          | 0/625 [00:00<?, ?it/s]"
      ]
     },
     "metadata": {},
     "output_type": "display_data"
    },
    {
     "name": "stdout",
     "output_type": "stream",
     "text": [
      "Epoch [3/5], loss: 0.07211 acc: 0.06185 val_loss: 0.06991, val_acc: 0.09190\n"
     ]
    },
    {
     "data": {
      "application/vnd.jupyter.widget-view+json": {
       "model_id": "0cc9223f6f1a4c90945cba739ea198b1",
       "version_major": 2,
       "version_minor": 0
      },
      "text/plain": [
       "  0%|          | 0/625 [00:00<?, ?it/s]"
      ]
     },
     "metadata": {},
     "output_type": "display_data"
    },
    {
     "name": "stdout",
     "output_type": "stream",
     "text": [
      "Epoch [4/5], loss: 0.07015 acc: 0.07733 val_loss: 0.06999, val_acc: 0.09150\n"
     ]
    },
    {
     "data": {
      "application/vnd.jupyter.widget-view+json": {
       "model_id": "f4e62d0f5c5a40f59966be172b43a61e",
       "version_major": 2,
       "version_minor": 0
      },
      "text/plain": [
       "  0%|          | 0/625 [00:00<?, ?it/s]"
      ]
     },
     "metadata": {},
     "output_type": "display_data"
    },
    {
     "name": "stdout",
     "output_type": "stream",
     "text": [
      "Epoch [5/5], loss: 0.06752 acc: 0.09452 val_loss: 0.06627, val_acc: 0.12860\n"
     ]
    }
   ],
   "source": [
    "# loss function: cross entropy損失関数： 交差エントロピー関数\n",
    "criterion = nn.CrossEntropyLoss().to(device)\n",
    "\n",
    "# learning step 学習率\n",
    "lr = 0.001\n",
    "\n",
    "# optimizser 最適化関数: 勾配降下法\n",
    "optimizer = optim.Adam(net.parameters(),lr=lr)\n",
    "#optimizer = optim.SGD(net.parameters(), lr=lr, momentum=0.9)\n",
    "\n",
    "# epock 繰り返し回数\n",
    "num_epochs = 5\n",
    "\n",
    "# output 評価結果記録用\n",
    "history = np.zeros((0,5))\n",
    "\n",
    "# learning: 学習\n",
    "history = fit(net, optimizer, criterion, num_epochs, train_loader, test_loader, device, history)"
   ]
  },
  {
   "cell_type": "code",
   "execution_count": 18,
   "id": "36f65453",
   "metadata": {},
   "outputs": [],
   "source": [
    "torch.save(net.state_dict(), './cnn_best_so_far_40epoch.pth')"
   ]
  },
  {
   "cell_type": "code",
   "execution_count": 19,
   "id": "4485c883",
   "metadata": {},
   "outputs": [
    {
     "name": "stdout",
     "output_type": "stream",
     "text": [
      "Initial: loss: 0.07785 accuracy: 0.03430\n",
      "Final: loss: 0.06627 accuracy: 0.12860\n"
     ]
    },
    {
     "data": {
      "image/png": "[encoded data removed]",
      "text/plain": [
       "<Figure size 648x576 with 1 Axes>"
      ]
     },
     "metadata": {},
     "output_type": "display_data"
    },
    {
     "data": {
      "image/png": "[encoded data removed]",
      "text/plain": [
       "<Figure size 648x576 with 1 Axes>"
      ]
     },
     "metadata": {},
     "output_type": "display_data"
    }
   ],
   "source": [
    "# 評価\n",
    "evaluate_history(history)"
   ]
  },
  {
   "cell_type": "code",
   "execution_count": null,
   "id": "f526ec3f",
   "metadata": {},
   "outputs": [],
   "source": []
  },
  {
   "cell_type": "code",
   "execution_count": null,
   "id": "182a5a66",
   "metadata": {},
   "outputs": [],
   "source": []
  }
 ],
 "metadata": {
  "kernelspec": {
   "display_name": "Python 3 (ipykernel)",
   "language": "python",
   "name": "python3"
  },
  "language_info": {
   "codemirror_mode": {
    "name": "ipython",
    "version": 3
   },
   "file_extension": ".py",
   "mimetype": "text/x-python",
   "name": "python",
   "nbconvert_exporter": "python",
   "pygments_lexer": "ipython3",
   "version": "3.7.10"
  }
 },
 "nbformat": 4,
 "nbformat_minor": 5
}
